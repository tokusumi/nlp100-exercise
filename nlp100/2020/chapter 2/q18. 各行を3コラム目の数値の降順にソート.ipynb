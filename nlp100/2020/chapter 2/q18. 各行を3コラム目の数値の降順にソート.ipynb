{
 "cells": [
  {
   "cell_type": "markdown",
   "metadata": {},
   "source": [
    "## 18. 各行を3コラム目の数値の降順にソート\n",
    "\n",
    "各行を3コラム目の数値の逆順で整列せよ（注意: 各行の内容は変更せずに並び替えよ）．確認にはsortコマンドを用いよ（この問題はコマンドで実行した時の結果と合わなくてもよい）．"
   ]
  },
  {
   "cell_type": "code",
   "execution_count": 1,
   "metadata": {},
   "outputs": [],
   "source": [
    "import os\n",
    "dirs = 'data/q18'\n",
    "if not os.path.exists(dirs):\n",
    "    os.makedirs(dirs)"
   ]
  },
  {
   "cell_type": "code",
   "execution_count": 2,
   "metadata": {},
   "outputs": [
    {
     "name": "stdout",
     "output_type": "stream",
     "text": [
      "  % Total    % Received % Xferd  Average Speed   Time    Time     Time  Current\n",
      "                                 Dload  Upload   Total   Spent    Left  Speed\n",
      "100 55026  100 55026    0     0   111k      0 --:--:-- --:--:-- --:--:--  110k\n"
     ]
    }
   ],
   "source": [
    "# get data\n",
    "!curl https://nlp100.github.io/data/popular-names.txt > data/q18/popular-names.txt"
   ]
  },
  {
   "cell_type": "markdown",
   "metadata": {},
   "source": [
    "### python"
   ]
  },
  {
   "cell_type": "code",
   "execution_count": 3,
   "metadata": {},
   "outputs": [],
   "source": [
    "import pandas as pd"
   ]
  },
  {
   "cell_type": "code",
   "execution_count": 4,
   "metadata": {},
   "outputs": [],
   "source": [
    "def sort3(filename, outname):\n",
    "    basedir = os.path.dirname(filename)\n",
    "    df = pd.read_csv(filename, delimiter='\\t', header=None)\n",
    "    df.sort_values(\n",
    "        by=2, ascending=False\n",
    "    ).to_csv(outname, header=None, index=None, sep='\\t')"
   ]
  },
  {
   "cell_type": "code",
   "execution_count": 5,
   "metadata": {},
   "outputs": [],
   "source": [
    "filename = os.path.join(dirs, 'popular-names.txt')\n",
    "outname = os.path.join(dirs, 'sort.txt')\n",
    "sort3(filename, outname)"
   ]
  },
  {
   "cell_type": "markdown",
   "metadata": {},
   "source": [
    "### UNIX command"
   ]
  },
  {
   "cell_type": "code",
   "execution_count": 6,
   "metadata": {},
   "outputs": [],
   "source": [
    "!sort -r -n -k 3 data/q18/popular-names.txt > data/q18/sort-unix.txt"
   ]
  },
  {
   "cell_type": "code",
   "execution_count": 7,
   "metadata": {},
   "outputs": [
    {
     "name": "stdout",
     "output_type": "stream",
     "text": [
      "493d492\r\n",
      "< Jennifer\tF\t42651\t1985\r\n",
      "494a494\r\n",
      "> Jennifer\tF\t42651\t1985\r\n",
      "536d535\r\n",
      "< Barbara\tF\t40620\t1951\r\n",
      "537a537\r\n",
      "> Barbara\tF\t40620\t1951\r\n",
      "780d779\r\n",
      "< Jennifer\tF\t33702\t1969\r\n",
      "781a781\r\n",
      "> Jennifer\tF\t33702\t1969\r\n",
      "815d814\r\n",
      "< James\tM\t32703\t1989\r\n",
      "816a816\r\n",
      "> James\tM\t32703\t1989\r\n",
      "878d877\r\n",
      "< Justin\tM\t31492\t1987\r\n",
      "879a879\r\n",
      "> Justin\tM\t31492\t1987\r\n",
      "910d909\r\n",
      "< Barbara\tF\t30696\t1935\r\n",
      "911a911\r\n",
      "> Barbara\tF\t30696\t1935\r\n",
      "1009d1008\r\n",
      "< Richard\tM\t28794\t1928\r\n",
      "1010a1010\r\n",
      "> Richard\tM\t28794\t1928\r\n",
      "1123d1122\r\n",
      "< James\tM\t26263\t1914\r\n",
      "1124a1124\r\n",
      "> James\tM\t26263\t1914\r\n",
      "1132d1131\r\n",
      "< Jessica\tF\t26102\t1978\r\n",
      "1133a1133\r\n",
      "> Jessica\tF\t26102\t1978\r\n",
      "1165d1164\r\n",
      "< Emily\tF\t25691\t2003\r\n",
      "1166a1166\r\n",
      "> Emily\tF\t25691\t2003\r\n",
      "1217d1216\r\n",
      "< Judith\tF\t24792\t1942\r\n",
      "1218a1218\r\n",
      "> Judith\tF\t24792\t1942\r\n",
      "1308d1307\r\n",
      "< Amy\tF\t23212\t1978\r\n",
      "1309a1309\r\n",
      "> Amy\tF\t23212\t1978\r\n",
      "1342d1341\r\n",
      "< Michelle\tF\t22665\t1975\r\n",
      "1343a1343\r\n",
      "> Michelle\tF\t22665\t1975\r\n",
      "1507d1506\r\n",
      "< Elizabeth\tF\t20295\t1989\r\n",
      "1508a1508\r\n",
      "> Elizabeth\tF\t20295\t1989\r\n",
      "1549d1548\r\n",
      "< Amy\tF\t19835\t1980\r\n",
      "1550a1550\r\n",
      "> Amy\tF\t19835\t1980\r\n",
      "1586d1585\r\n",
      "< Anthony\tM\t19404\t2006\r\n",
      "1587a1587\r\n",
      "> Anthony\tM\t19404\t2006\r\n",
      "1689d1688\r\n",
      "< Jessica\tF\t18235\t1998\r\n",
      "1690a1690\r\n",
      "> Jessica\tF\t18235\t1998\r\n",
      "1709d1708\r\n",
      "< Christopher\tM\t17947\t2008\r\n",
      "1710a1710\r\n",
      "> Christopher\tM\t17947\t2008\r\n",
      "1736d1735\r\n",
      "< Mary\tF\t17580\t1907\r\n",
      "1737a1737\r\n",
      "> Mary\tF\t17580\t1907\r\n",
      "1768d1767\r\n",
      "< Joseph\tM\t17183\t1935\r\n",
      "1769a1769\r\n",
      "> Joseph\tM\t17183\t1935\r\n",
      "1776d1775\r\n",
      "< Joan\tF\t17069\t1936\r\n",
      "1777a1777\r\n",
      "> Joan\tF\t17069\t1936\r\n",
      "1793d1792\r\n",
      "< Stephanie\tF\t16885\t1972\r\n",
      "1794a1794\r\n",
      "> Stephanie\tF\t16885\t1972\r\n",
      "1803d1802\r\n",
      "< Alexander\tM\t16756\t2010\r\n",
      "1804a1804\r\n",
      "> Alexander\tM\t16756\t2010\r\n",
      "1832d1831\r\n",
      "< Helen\tF\t16376\t1932\r\n",
      "1833a1833\r\n",
      "> Helen\tF\t16376\t1932\r\n",
      "1874d1873\r\n",
      "< Elizabeth\tF\t15853\t1918\r\n",
      "1875a1875\r\n",
      "> Elizabeth\tF\t15853\t1918\r\n",
      "1925d1924\r\n",
      "< Daniel\tM\t15291\t2011\r\n",
      "1926a1926\r\n",
      "> Daniel\tM\t15291\t2011\r\n",
      "1963d1962\r\n",
      "< Alexander\tM\t14905\t2013\r\n",
      "1964a1964\r\n",
      "> Alexander\tM\t14905\t2013\r\n",
      "1989d1988\r\n",
      "< Hannah\tF\t14544\t2006\r\n",
      "1990a1990\r\n",
      "> Hannah\tF\t14544\t2006\r\n",
      "2022d2021\r\n",
      "< Elizabeth\tF\t14103\t1915\r\n",
      "2023a2023\r\n",
      "> Elizabeth\tF\t14103\t1915\r\n",
      "2054d2053\r\n",
      "< John\tM\t13446\t1911\r\n",
      "2055a2055\r\n",
      "> John\tM\t13446\t1911\r\n",
      "2070d2069\r\n",
      "< Mary\tF\t13172\t1892\r\n",
      "2071a2071\r\n",
      "> Mary\tF\t13172\t1892\r\n",
      "2258d2257\r\n",
      "< Helen\tF\t6488\t1904\r\n",
      "2259a2259\r\n",
      "> Helen\tF\t6488\t1904\r\n",
      "2280d2279\r\n",
      "< Anna\tF\t5860\t1896\r\n",
      "2281a2281\r\n",
      "> Anna\tF\t5860\t1896\r\n",
      "2403d2402\r\n",
      "< George\tM\t4219\t1904\r\n",
      "2404a2404\r\n",
      "> George\tM\t4219\t1904\r\n",
      "2487d2486\r\n",
      "< Margaret\tF\t3435\t1892\r\n",
      "2488a2488\r\n",
      "> Margaret\tF\t3435\t1892\r\n",
      "2543d2542\r\n",
      "< Emma\tF\t3087\t1888\r\n",
      "2544a2544\r\n",
      "> Emma\tF\t3087\t1888\r\n",
      "2576d2575\r\n",
      "< Frank\tM\t2917\t1893\r\n",
      "2577a2577\r\n",
      "> Frank\tM\t2917\t1893\r\n",
      "2605d2604\r\n",
      "< Edward\tM\t2707\t1908\r\n",
      "2606a2606\r\n",
      "> Edward\tM\t2707\t1908\r\n",
      "2639d2638\r\n",
      "< Joseph\tM\t2572\t1891\r\n",
      "2640a2640\r\n",
      "> Joseph\tM\t2572\t1891\r\n",
      "2660d2659\r\n",
      "< Joseph\tM\t2456\t1881\r\n",
      "2661a2661\r\n",
      "> Joseph\tM\t2456\t1881\r\n",
      "2664d2663\r\n",
      "< Florence\tF\t2444\t1888\r\n",
      "2665a2665\r\n",
      "> Florence\tF\t2444\t1888\r\n",
      "2686d2685\r\n",
      "< Edward\tM\t2337\t1898\r\n",
      "2687a2687\r\n",
      "> Edward\tM\t2337\t1898\r\n",
      "2730d2729\r\n",
      "< Henry\tM\t2049\t1891\r\n",
      "2731a2731\r\n",
      "> Henry\tM\t2049\t1891\r\n",
      "2754d2753\r\n",
      "< Clara\tF\t1852\t1884\r\n",
      "2755a2755\r\n",
      "> Clara\tF\t1852\t1884\r\n"
     ]
    }
   ],
   "source": [
    "# 確認\n",
    "!diff data/q18/sort.txt data/q18/sort-unix.txt"
   ]
  }
 ],
 "metadata": {
  "kernelspec": {
   "display_name": "Python 3",
   "language": "python",
   "name": "python3"
  },
  "language_info": {
   "codemirror_mode": {
    "name": "ipython",
    "version": 3
   },
   "file_extension": ".py",
   "mimetype": "text/x-python",
   "name": "python",
   "nbconvert_exporter": "python",
   "pygments_lexer": "ipython3",
   "version": "3.6.9"
  }
 },
 "nbformat": 4,
 "nbformat_minor": 4
}
