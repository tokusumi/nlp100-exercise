{
 "cells": [
  {
   "cell_type": "markdown",
   "metadata": {},
   "source": [
    "## 16. ファイルをN分割する\n",
    "\n",
    "自然数Nをコマンドライン引数などの手段で受け取り，入力のファイルを行単位でN分割せよ．同様の処理をsplitコマンドで実現せよ．"
   ]
  },
  {
   "cell_type": "code",
   "execution_count": 1,
   "metadata": {},
   "outputs": [],
   "source": [
    "import os\n",
    "dirs = 'data/q16'\n",
    "if not os.path.exists(dirs):\n",
    "    os.makedirs(dirs)"
   ]
  },
  {
   "cell_type": "code",
   "execution_count": 2,
   "metadata": {},
   "outputs": [
    {
     "name": "stdout",
     "output_type": "stream",
     "text": [
      "  % Total    % Received % Xferd  Average Speed   Time    Time     Time  Current\n",
      "                                 Dload  Upload   Total   Spent    Left  Speed\n",
      "100 55026  100 55026    0     0  96367      0 --:--:-- --:--:-- --:--:-- 96536\n"
     ]
    }
   ],
   "source": [
    "# get data\n",
    "!curl https://nlp100.github.io/data/popular-names.txt > data/q16/popular-names.txt"
   ]
  },
  {
   "cell_type": "markdown",
   "metadata": {},
   "source": [
    "### python"
   ]
  },
  {
   "cell_type": "code",
   "execution_count": 3,
   "metadata": {},
   "outputs": [],
   "source": [
    "import pandas as pd"
   ]
  },
  {
   "cell_type": "code",
   "execution_count": 4,
   "metadata": {},
   "outputs": [],
   "source": [
    "def split_txt(dirs, input_file, N=3):\n",
    "    df = pd.read_csv(os.path.join(dirs, input_file), delimiter='\\t', header=None)\n",
    "\n",
    "    size = len(df)\n",
    "    chunk = size // N + size % N\n",
    "\n",
    "    for i in range(0, N):\n",
    "        df[i*chunk:(i+1)*chunk].to_csv(os.path.join(dirs, f'x{i:02}-data.txt'), header=None, index=None, sep='\\t')"
   ]
  },
  {
   "cell_type": "code",
   "execution_count": 5,
   "metadata": {},
   "outputs": [],
   "source": [
    "N = 3\n",
    "split_txt(dirs, 'popular-names.txt', N=N)"
   ]
  },
  {
   "cell_type": "markdown",
   "metadata": {},
   "source": [
    "### UNIX command"
   ]
  },
  {
   "cell_type": "code",
   "execution_count": 6,
   "metadata": {},
   "outputs": [],
   "source": [
    "!cd data/q16 && wc -l popular-names.txt | cut -f 1 -d \\ | { read v ; split -l $(($v / 3 + $v % 3)) -d --additional-suffix \"-data-unix.txt\" popular-names.txt; }"
   ]
  },
  {
   "cell_type": "code",
   "execution_count": 7,
   "metadata": {},
   "outputs": [],
   "source": [
    "# 確認\n",
    "!diff data/q16/x00-data.txt data/q16/x00-data-unix.txt\n",
    "!diff data/q16/x01-data.txt data/q16/x01-data-unix.txt\n",
    "!diff data/q16/x02-data.txt data/q16/x02-data-unix.txt"
   ]
  }
 ],
 "metadata": {
  "kernelspec": {
   "display_name": "Python 3",
   "language": "python",
   "name": "python3"
  },
  "language_info": {
   "codemirror_mode": {
    "name": "ipython",
    "version": 3
   },
   "file_extension": ".py",
   "mimetype": "text/x-python",
   "name": "python",
   "nbconvert_exporter": "python",
   "pygments_lexer": "ipython3",
   "version": "3.6.9"
  }
 },
 "nbformat": 4,
 "nbformat_minor": 4
}
