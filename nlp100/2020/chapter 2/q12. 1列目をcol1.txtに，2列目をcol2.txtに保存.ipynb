{
 "cells": [
  {
   "cell_type": "markdown",
   "metadata": {},
   "source": [
    "## 12. 1列目をcol1.txtに，2列目をcol2.txtに保存\n",
    "\n",
    "各行の1列目だけを抜き出したものをcol1.txtに，2列目だけを抜き出したものをcol2.txtとしてファイルに保存せよ．確認にはcutコマンドを用いよ．"
   ]
  },
  {
   "cell_type": "code",
   "execution_count": 1,
   "metadata": {},
   "outputs": [],
   "source": [
    "import os\n",
    "dirs = 'data/q12'\n",
    "if not os.path.exists(dirs):\n",
    "    os.makedirs(dirs)"
   ]
  },
  {
   "cell_type": "code",
   "execution_count": 2,
   "metadata": {},
   "outputs": [
    {
     "name": "stdout",
     "output_type": "stream",
     "text": [
      "  % Total    % Received % Xferd  Average Speed   Time    Time     Time  Current\n",
      "                                 Dload  Upload   Total   Spent    Left  Speed\n",
      "100 55026  100 55026    0     0   104k      0 --:--:-- --:--:-- --:--:--  104k\n"
     ]
    }
   ],
   "source": [
    "# get data\n",
    "!curl https://nlp100.github.io/data/popular-names.txt > data/q12/popular-names.txt"
   ]
  },
  {
   "cell_type": "markdown",
   "metadata": {},
   "source": [
    "### python"
   ]
  },
  {
   "cell_type": "code",
   "execution_count": 3,
   "metadata": {},
   "outputs": [],
   "source": [
    "import pandas as pd"
   ]
  },
  {
   "cell_type": "code",
   "execution_count": 4,
   "metadata": {},
   "outputs": [],
   "source": [
    "def dump(filename, cols=[1, 2]):\n",
    "    basedir = os.path.dirname(filename)\n",
    "    df = pd.read_csv(filename, delimiter='\\t', header=None)\n",
    "    for col in cols:\n",
    "        col_name = df.columns[col - 1]\n",
    "        df[col_name].to_csv(os.path.join(basedir, f'col{col}.txt'), header=None, index=None)"
   ]
  },
  {
   "cell_type": "code",
   "execution_count": 5,
   "metadata": {},
   "outputs": [],
   "source": [
    "filename = os.path.join(dirs, 'popular-names.txt')\n",
    "dump(filename, cols=[1, 2])"
   ]
  },
  {
   "cell_type": "markdown",
   "metadata": {},
   "source": [
    "### UNIX command"
   ]
  },
  {
   "cell_type": "code",
   "execution_count": 6,
   "metadata": {},
   "outputs": [],
   "source": [
    "!cut -f 1 data/q12/popular-names.txt > data/q12/col1-unix.txt\n",
    "!cut -f 2 data/q12/popular-names.txt > data/q12/col2-unix.txt"
   ]
  },
  {
   "cell_type": "code",
   "execution_count": 7,
   "metadata": {},
   "outputs": [],
   "source": [
    "# 確認\n",
    "!diff data/q12/col1.txt data/q12/col1-unix.txt\n",
    "!diff data/q12/col2.txt data/q12/col2-unix.txt"
   ]
  }
 ],
 "metadata": {
  "kernelspec": {
   "display_name": "Python 3",
   "language": "python",
   "name": "python3"
  },
  "language_info": {
   "codemirror_mode": {
    "name": "ipython",
    "version": 3
   },
   "file_extension": ".py",
   "mimetype": "text/x-python",
   "name": "python",
   "nbconvert_exporter": "python",
   "pygments_lexer": "ipython3",
   "version": "3.6.9"
  }
 },
 "nbformat": 4,
 "nbformat_minor": 4
}
