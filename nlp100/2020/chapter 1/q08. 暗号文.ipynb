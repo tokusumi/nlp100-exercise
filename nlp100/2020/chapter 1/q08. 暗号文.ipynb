{
 "cells": [
  {
   "cell_type": "markdown",
   "metadata": {},
   "source": [
    "## 08. 暗号文\n",
    "\n",
    "与えられた文字列の各文字を，以下の仕様で変換する関数cipherを実装せよ．\n",
    "\n",
    "英小文字ならば(219 - 文字コード)の文字に置換\n",
    "その他の文字はそのまま出力\n",
    "この関数を用い，英語のメッセージを暗号化・復号化せよ"
   ]
  },
  {
   "cell_type": "code",
   "execution_count": 1,
   "metadata": {},
   "outputs": [],
   "source": [
    "import re"
   ]
  },
  {
   "cell_type": "code",
   "execution_count": 2,
   "metadata": {},
   "outputs": [],
   "source": [
    "def convert(char):\n",
    "    return chr(219 - ord(char))\n",
    "    \n",
    "def cipher(text):\n",
    "    return \"\".join([f if not re.match('[a-z]', f) else convert(f) for f in text])"
   ]
  },
  {
   "cell_type": "code",
   "execution_count": 3,
   "metadata": {},
   "outputs": [
    {
     "name": "stdout",
     "output_type": "stream",
     "text": [
      "暗号化:  vmxibkg vmtorhs nvhhztvh\n",
      "復号化:  encrypt english messages\n"
     ]
    }
   ],
   "source": [
    "text = \"encrypt english messages\"\n",
    "enc_text = cipher(text)\n",
    "dec_text = cipher(enc_text)\n",
    "\n",
    "print(\"暗号化: \", enc_text)\n",
    "print(\"復号化: \", dec_text)"
   ]
  }
 ],
 "metadata": {
  "kernelspec": {
   "display_name": "Python 3",
   "language": "python",
   "name": "python3"
  },
  "language_info": {
   "codemirror_mode": {
    "name": "ipython",
    "version": 3
   },
   "file_extension": ".py",
   "mimetype": "text/x-python",
   "name": "python",
   "nbconvert_exporter": "python",
   "pygments_lexer": "ipython3",
   "version": "3.6.9"
  }
 },
 "nbformat": 4,
 "nbformat_minor": 4
}
