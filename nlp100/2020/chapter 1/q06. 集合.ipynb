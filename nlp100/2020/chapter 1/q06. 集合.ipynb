{
 "cells": [
  {
   "cell_type": "markdown",
   "metadata": {},
   "source": [
    "## 06. 集合\n",
    "\n",
    "“paraparaparadise”と”paragraph”に含まれる文字bi-gramの集合を，それぞれ, XとYとして求め，XとYの和集合，積集合，差集合を求めよ．さらに，’se’というbi-gramがXおよびYに含まれるかどうかを調べよ"
   ]
  },
  {
   "cell_type": "code",
   "execution_count": 1,
   "metadata": {},
   "outputs": [],
   "source": [
    "def get_char_bigram(text: str):\n",
    "    return [f for f in zip(text, text[1:])]\n",
    "    \n",
    "def profile(x, y):\n",
    "    X = set(get_char_bigram(x))\n",
    "    Y = set(get_char_bigram(y))\n",
    "    \n",
    "    print('和集合', X.union(Y))\n",
    "    print('積集合', X.intersection(Y))\n",
    "    print('差集合', X.difference(Y))\n",
    "    \n",
    "    print('se in X', ('s', 'e') in X)\n",
    "    print('se in Y', ('s', 'e') in Y)"
   ]
  },
  {
   "cell_type": "code",
   "execution_count": 2,
   "metadata": {},
   "outputs": [
    {
     "name": "stdout",
     "output_type": "stream",
     "text": [
      "和集合 {('a', 'd'), ('a', 'g'), ('s', 'e'), ('p', 'a'), ('r', 'a'), ('a', 'r'), ('d', 'i'), ('i', 's'), ('p', 'h'), ('a', 'p'), ('g', 'r')}\n",
      "積集合 {('a', 'p'), ('a', 'r'), ('p', 'a'), ('r', 'a')}\n",
      "差集合 {('a', 'd'), ('i', 's'), ('s', 'e'), ('d', 'i')}\n",
      "se in X True\n",
      "se in Y False\n"
     ]
    }
   ],
   "source": [
    "x = \"paraparaparadise\"\n",
    "y = \"paragraph\"\n",
    "profile(x, y)"
   ]
  }
 ],
 "metadata": {
  "kernelspec": {
   "display_name": "Python 3",
   "language": "python",
   "name": "python3"
  },
  "language_info": {
   "codemirror_mode": {
    "name": "ipython",
    "version": 3
   },
   "file_extension": ".py",
   "mimetype": "text/x-python",
   "name": "python",
   "nbconvert_exporter": "python",
   "pygments_lexer": "ipython3",
   "version": "3.6.9"
  }
 },
 "nbformat": 4,
 "nbformat_minor": 4
}
