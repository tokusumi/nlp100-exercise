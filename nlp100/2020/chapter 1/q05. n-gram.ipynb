{
 "cells": [
  {
   "cell_type": "markdown",
   "metadata": {},
   "source": [
    "## 05. n-gram\n",
    "\n",
    "与えられたシーケンス（文字列やリストなど）からn-gramを作る関数を作成せよ．この関数を用い，”I am an NLPer”という文から単語bi-gram，文字bi-gramを得よ"
   ]
  },
  {
   "cell_type": "code",
   "execution_count": 1,
   "metadata": {},
   "outputs": [],
   "source": [
    "from typing import List"
   ]
  },
  {
   "cell_type": "code",
   "execution_count": 2,
   "metadata": {},
   "outputs": [],
   "source": [
    "def get_words(text: str):\n",
    "    return [f.strip() for f in text.split(' ')]\n",
    "\n",
    "def _get_ngram(words, n=2):\n",
    "    grams = [words[i:] for i in range(n)]\n",
    "    n_grams = [f for f in zip(*grams) if ' ' not in f]\n",
    "    return list(set(n_grams))\n",
    "\n",
    "def word_ngram(text: str, n=2):\n",
    "    text = get_words(text)\n",
    "    return _get_ngram(text, n=n)\n",
    "\n",
    "def char_ngram(text: str, n=2):\n",
    "    return _get_ngram(text, n=n)"
   ]
  },
  {
   "cell_type": "code",
   "execution_count": 3,
   "metadata": {},
   "outputs": [
    {
     "name": "stdout",
     "output_type": "stream",
     "text": [
      "[('I', 'am'), ('an', 'NLPer'), ('am', 'an')]\n",
      "[('a', 'n'), ('P', 'e'), ('a', 'm'), ('N', 'L'), ('L', 'P'), ('e', 'r')]\n"
     ]
    }
   ],
   "source": [
    "text = \"I am an NLPer\"\n",
    "print(word_ngram(text, n=2))\n",
    "print(char_ngram(text, n=2))"
   ]
  },
  {
   "cell_type": "code",
   "execution_count": 4,
   "metadata": {},
   "outputs": [
    {
     "name": "stdout",
     "output_type": "stream",
     "text": [
      "[('am', 'an', 'NLPer'), ('I', 'am', 'an')]\n",
      "[('N', 'L', 'P'), ('L', 'P', 'e'), ('P', 'e', 'r')]\n"
     ]
    }
   ],
   "source": [
    "text = \"I am an NLPer\"\n",
    "print(word_ngram(text, n=3))\n",
    "print(char_ngram(text, n=3))"
   ]
  }
 ],
 "metadata": {
  "kernelspec": {
   "display_name": "Python 3",
   "language": "python",
   "name": "python3"
  },
  "language_info": {
   "codemirror_mode": {
    "name": "ipython",
    "version": 3
   },
   "file_extension": ".py",
   "mimetype": "text/x-python",
   "name": "python",
   "nbconvert_exporter": "python",
   "pygments_lexer": "ipython3",
   "version": "3.6.9"
  }
 },
 "nbformat": 4,
 "nbformat_minor": 4
}
