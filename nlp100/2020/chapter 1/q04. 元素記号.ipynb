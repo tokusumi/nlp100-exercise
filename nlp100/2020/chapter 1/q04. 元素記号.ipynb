{
 "cells": [
  {
   "cell_type": "markdown",
   "metadata": {},
   "source": [
    "## 04. 元素記号\n",
    "\n",
    "“Hi He Lied Because Boron Could Not Oxidize Fluorine. New Nations Might Also Sign Peace Security Clause. Arthur King Can.”という文を単語に分解し，1, 5, 6, 7, 8, 9, 15, 16, 19番目の単語は先頭の1文字，それ以外の単語は先頭に2文字を取り出し，取り出した文字列から単語の位置（先頭から何番目の単語か）への連想配列（辞書型もしくはマップ型）を作成せよ．"
   ]
  },
  {
   "cell_type": "code",
   "execution_count": 1,
   "metadata": {},
   "outputs": [],
   "source": [
    "import re\n",
    "from typing import List"
   ]
  },
  {
   "cell_type": "code",
   "execution_count": 2,
   "metadata": {},
   "outputs": [],
   "source": [
    "def get_words(text):\n",
    "    return [re.sub('[,. ]', '', f) for f in text.split(' ')]\n",
    "\n",
    "def main(text, tar=[1, 5, 6, 7, 8, 9, 15, 16, 19]):\n",
    "    target = set(tar)\n",
    "    words: List[str] = get_words(text)\n",
    "    return {f[0] if i in target else f[:2]: i for i, f in enumerate(words, 1)}"
   ]
  },
  {
   "cell_type": "code",
   "execution_count": 3,
   "metadata": {},
   "outputs": [
    {
     "data": {
      "text/plain": [
       "{'H': 1,\n",
       " 'He': 2,\n",
       " 'Li': 3,\n",
       " 'Be': 4,\n",
       " 'B': 5,\n",
       " 'C': 6,\n",
       " 'N': 7,\n",
       " 'O': 8,\n",
       " 'F': 9,\n",
       " 'Ne': 10,\n",
       " 'Na': 11,\n",
       " 'Mi': 12,\n",
       " 'Al': 13,\n",
       " 'Si': 14,\n",
       " 'P': 15,\n",
       " 'S': 16,\n",
       " 'Cl': 17,\n",
       " 'Ar': 18,\n",
       " 'K': 19,\n",
       " 'Ca': 20}"
      ]
     },
     "execution_count": 3,
     "metadata": {},
     "output_type": "execute_result"
    }
   ],
   "source": [
    "text = \"Hi He Lied Because Boron Could Not Oxidize Fluorine. New Nations Might Also Sign Peace Security Clause. Arthur King Can.\"\n",
    "main(text)\n"
   ]
  }
 ],
 "metadata": {
  "kernelspec": {
   "display_name": "Python 3",
   "language": "python",
   "name": "python3"
  },
  "language_info": {
   "codemirror_mode": {
    "name": "ipython",
    "version": 3
   },
   "file_extension": ".py",
   "mimetype": "text/x-python",
   "name": "python",
   "nbconvert_exporter": "python",
   "pygments_lexer": "ipython3",
   "version": "3.6.9"
  }
 },
 "nbformat": 4,
 "nbformat_minor": 4
}
